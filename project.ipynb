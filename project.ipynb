{
 "cells": [
  {
   "cell_type": "code",
   "execution_count": 2,
   "id": "5544dafc",
   "metadata": {},
   "outputs": [
    {
     "name": "stdout",
     "output_type": "stream",
     "text": [
      "Path to dataset files: /root/.cache/kagglehub/datasets/apollo2506/eurosat-dataset/versions/6\n"
     ]
    }
   ],
   "source": [
    "import kagglehub, os\n",
    "\n",
    "# Download latest version\n",
    "path = kagglehub.dataset_download(\"apollo2506/eurosat-dataset\")\n",
    "\n",
    "print(\"Path to dataset files:\", path)"
   ]
  },
  {
   "cell_type": "code",
   "execution_count": null,
   "id": "027ea2c9",
   "metadata": {},
   "outputs": [],
   "source": []
  },
  {
   "cell_type": "code",
   "execution_count": null,
   "id": "bdaa86a4",
   "metadata": {},
   "outputs": [],
   "source": [
    "import torchvision.transforms as transforms\n",
    "\n",
    "from src.datasets import EuroSATDataset\n",
    "from src.modules.backbones.resnet import ResNet\n",
    "from src.modules.heads import FFN\n",
    "from src.modules.models import EuroSATModel\n",
    "from src.runner import Runner\n",
    "\n",
    "\n",
    "transform = transforms.Compose([\n",
    "    transforms.Resize((128, 128)),\n",
    "    transforms.ToTensor(),\n",
    "])\n",
    "\n",
    "loading_cfg = {\n",
    "    'batch_size': 1024,\n",
    "    'num_workers': 4,\n",
    "}\n",
    "\n",
    "data_cfg = {\n",
    "    'root_dir': os.path.join(path, 'EuroSAT'),\n",
    "    'transform': transform,\n",
    "}\n",
    "\n",
    "optim_cfg = {\n",
    "    'lr': 0.001,\n",
    "    'weight_decay': 1e-4,\n",
    "}\n",
    "\n",
    "\n",
    "model = EuroSATModel(\n",
    "    backbone=ResNet(idims=3, odims=64, arch=(2, 2, 2, 2), base_dims=32), \n",
    "    head=FFN(idims=64, odims=10, hidden_dims=64, dropout=0.5, nlayers=6))\n",
    "\n",
    "runner = Runner(model=model, loading_cfg=loading_cfg, data_cfg=data_cfg, optim_cfg=optim_cfg, device='cuda:2', work_dir='results/eurosat')"
   ]
  },
  {
   "cell_type": "code",
   "execution_count": null,
   "id": "47346b9e",
   "metadata": {},
   "outputs": [
    {
     "name": "stdout",
     "output_type": "stream",
     "text": [
      "Epoch 01/10 | Iter 19/19 | [██████████] |  | loss: 1.8279 | lr: 1.0000e-03\n",
      "Evaluating | Iter 5400/5400 | [>>>>>>>>>>] |  100.00% | val_loss: 2.2664077281951904 --> F1: 0.0405 | mAP: 0.1770\n",
      "Model saved to results/eurosat/run_20250610-211745/best_model.pth\n",
      "Best model saved at epoch 1 with val_loss 2.3021\n",
      "Epoch 02/10 | Iter 19/19 | [██████████] |  | loss: 1.4567 | lr: 1.0000e-03\n",
      "Evaluating | Iter 3264/5400 | [>>>>>>----] |  60.44% | val_loss: 2.19449949264526378787"
     ]
    }
   ],
   "source": [
    "runner.run(mode='train', val_interval=1, log_interval=1, epochs=10, start_epoch=1)"
   ]
  },
  {
   "cell_type": "code",
   "execution_count": null,
   "id": "b3dc8097",
   "metadata": {},
   "outputs": [],
   "source": []
  }
 ],
 "metadata": {
  "kernelspec": {
   "display_name": "base",
   "language": "python",
   "name": "python3"
  },
  "language_info": {
   "codemirror_mode": {
    "name": "ipython",
    "version": 3
   },
   "file_extension": ".py",
   "mimetype": "text/x-python",
   "name": "python",
   "nbconvert_exporter": "python",
   "pygments_lexer": "ipython3",
   "version": "3.11.12"
  }
 },
 "nbformat": 4,
 "nbformat_minor": 5
}
