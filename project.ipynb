{
 "cells": [
  {
   "cell_type": "code",
   "execution_count": 1,
   "id": "5544dafc",
   "metadata": {},
   "outputs": [
    {
     "name": "stdout",
     "output_type": "stream",
     "text": [
      "Path to dataset files: /root/.cache/kagglehub/datasets/apollo2506/eurosat-dataset/versions/6\n"
     ]
    }
   ],
   "source": [
    "import kagglehub, os\n",
    "\n",
    "# Download latest version\n",
    "path = kagglehub.dataset_download(\"apollo2506/eurosat-dataset\")\n",
    "\n",
    "print(\"Path to dataset files:\", path)"
   ]
  },
  {
   "cell_type": "code",
   "execution_count": 2,
   "id": "bdaa86a4",
   "metadata": {},
   "outputs": [
    {
     "name": "stdout",
     "output_type": "stream",
     "text": [
      "No seed provided, using initial seed: 37885644\n",
      "==================================\n",
      "     Model Parameters Summary     \n",
      "----------------------------------\n",
      "Trainable params     | 5,857,878\n",
      "Non-trainable params |         0\n",
      "Total params         | 5,857,878\n",
      "- Backbone params    | 1,582,668\n",
      "- Head params        | 4,275,210\n",
      "==================================\n"
     ]
    }
   ],
   "source": [
    "import torchvision.transforms as transforms\n",
    "\n",
    "from src.datasets import EuroSATDataset\n",
    "from src.modules.backbones.resnet import ResNet\n",
    "from src.modules.heads import FFN\n",
    "from src.modules.models import EuroSATModel\n",
    "from src.runner import Runner\n",
    "import os\n",
    "\n",
    "\n",
    "transform = transforms.Compose([\n",
    "    transforms.Resize((128, 128)),\n",
    "    transforms.ToTensor(),\n",
    "])\n",
    "\n",
    "loading_cfg = {\n",
    "    'batch_size': 1024,\n",
    "    'num_workers': 4,\n",
    "}\n",
    "\n",
    "data_cfg = {\n",
    "    'root_dir': os.path.join(path, 'EuroSAT'),\n",
    "    'transform': transform,\n",
    "}\n",
    "\n",
    "optim_cfg = {\n",
    "    'lr': 0.001,\n",
    "    'weight_decay': 1e-4,\n",
    "}\n",
    "\n",
    "\n",
    "model_cfg = {\n",
    "    'type': EuroSATModel,\n",
    "    'backbone_cfg': {\n",
    "        'type': ResNet,\n",
    "        'idims': 3,\n",
    "        'odims': 64,\n",
    "        'base_dims': 12,\n",
    "        'arch': [2,2,2,2],\n",
    "        'dropout': 0.2,\n",
    "    },\n",
    "    'head_cfg': {\n",
    "        'type': FFN,\n",
    "        'idims': 64,\n",
    "        'odims': 10,  # EuroSAT has 10 classes\n",
    "        'hidden_dims': 1024,\n",
    "        'nlayers':6,\n",
    "        'dropout': 0.2,\n",
    "    }\n",
    "}\n",
    "\n",
    "runner = Runner(model_cfg=model_cfg, loading_cfg=loading_cfg, data_cfg=data_cfg, optim_cfg=optim_cfg, device='cuda:2', work_dir='results/eurosat')"
   ]
  },
  {
   "cell_type": "code",
   "execution_count": null,
   "id": "47346b9e",
   "metadata": {},
   "outputs": [
    {
     "name": "stdout",
     "output_type": "stream",
     "text": [
      "Epoch 001/100 | Iter 01/19 | [----------] |  | loss: 2.2235 | lr: 1.0000e-03"
     ]
    }
   ],
   "source": [
    "runner.run(mode='train', val_interval=1, log_interval=1, epochs=100, start_epoch=1)"
   ]
  },
  {
   "cell_type": "code",
   "execution_count": null,
   "id": "b3dc8097",
   "metadata": {},
   "outputs": [],
   "source": []
  }
 ],
 "metadata": {
  "kernelspec": {
   "display_name": "base",
   "language": "python",
   "name": "python3"
  },
  "language_info": {
   "codemirror_mode": {
    "name": "ipython",
    "version": 3
   },
   "file_extension": ".py",
   "mimetype": "text/x-python",
   "name": "python",
   "nbconvert_exporter": "python",
   "pygments_lexer": "ipython3",
   "version": "3.11.12"
  }
 },
 "nbformat": 4,
 "nbformat_minor": 5
}
