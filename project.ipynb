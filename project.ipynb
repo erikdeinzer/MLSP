{
 "cells": [
  {
   "cell_type": "code",
   "execution_count": null,
   "id": "bba8a88a",
   "metadata": {},
   "outputs": [],
   "source": [
    "import src\n",
    "\n",
    "from src.runner import Runner\n",
    "import torch\n"
   ]
  },
  {
   "cell_type": "code",
   "execution_count": null,
   "id": "5b349eb7",
   "metadata": {},
   "outputs": [],
   "source": [
    "loading_cfg = dict(\n",
    "    batch_size=512, # Batch size for training\n",
    "    num_workers=4, # Number of workers for data loading\n",
    ")\n",
    "\n",
    "optim_cfg = dict(\n",
    "    type='Adam', # Optimizer type\n",
    "    lr=0.001, # Learning rate for the optimizer\n",
    "    weight_decay=1e-4, # Weight decay for regularization\n",
    ")\n",
    "\n",
    "backbone_cfg = dict(\n",
    "    type='ResNet',\n",
    "    idims=3, # Input dimensions (e.g., RGB image)\n",
    "    odims=64, # Output dimensions (e.g., feature size)\n",
    "    base_dims=12, # Base dimensions for the ResNet architecture\n",
    "    arch=[2, 2, 2, 2], # Number of blocks in each ResNet layer\n",
    "    dropout=0.2, # Dropout rate for regularization\n",
    ")\n",
    "\n",
    "device = 'cuda' if torch.is_cuda_available() else 'cpu'"
   ]
  },
  {
   "cell_type": "markdown",
   "id": "fe0fb9b6",
   "metadata": {},
   "source": [
    "# Train Vanilla EuroSAT"
   ]
  },
  {
   "cell_type": "code",
   "execution_count": null,
   "id": "5cbb99c6",
   "metadata": {},
   "outputs": [],
   "source": [
    "# Dataset config (if not available in Kagglehub cache, it will be downloaded)\n",
    "eurosat_cfg = dict(\n",
    "    type='EuroSATDataset',\n",
    "    transform=[\n",
    "        dict(type='Resize', size=(128, 128)),\n",
    "        dict(type='ToTensor'),\n",
    "    ]\n",
    ")\n",
    "\n",
    "eurosat_model_cfg = dict(\n",
    "    type='EuroSATModel',\n",
    "    backbone_cfg=backbone_cfg,\n",
    "    head_cfg=dict(\n",
    "        type='FFN',\n",
    "        idims=64,\n",
    "        odims=10,  # EuroSAT has 10 classes\n",
    "        hidden_dims=1024,\n",
    "        nlayers=6,\n",
    "        dropout=0.2,\n",
    "    )\n",
    ")\n",
    "\n",
    "eurosat = Runner(model=eurosat_model_cfg, dataloader_cfg=loading_cfg, dataset=eurosat_cfg, optim=optim_cfg, device=device, work_dir='results/EuroSAT')\n",
    "eurosat.run(mode='train', val_interval=1, log_interval=1, epochs=100, start_epoch=1)"
   ]
  },
  {
   "cell_type": "markdown",
   "id": "4bd3390a",
   "metadata": {},
   "source": [
    "# Train ImageNet"
   ]
  },
  {
   "cell_type": "code",
   "execution_count": null,
   "id": "5a63c95d",
   "metadata": {},
   "outputs": [],
   "source": [
    "# Dataset config for Tiny ImageNet (if not available in Kagglehub cache, it will be downloaded)\n",
    "imagenet_cfg = dict(\n",
    "    type='ImageNetDataset',\n",
    "    transform=[\n",
    "        dict(type='Resize', size=(128, 128)),\n",
    "        dict(type='ToTensor'),\n",
    "    ]\n",
    ")\n",
    "\n",
    "imagenet_model_cfg = dict(\n",
    "    type='EuroSATModel',\n",
    "    backbone_cfg=backbone_cfg,\n",
    "    head_cfg=dict(\n",
    "        type='FFN',\n",
    "        idims=64,\n",
    "        odims=200,  # Tiny ImageNet has 200 classes\n",
    "        hidden_dims=1024,\n",
    "        nlayers=6,\n",
    "        dropout=0.2,\n",
    "    )\n",
    ")\n",
    "\n",
    "imagenet = Runner(model=imagenet_model_cfg, dataloader_cfg=loading_cfg, dataset=imagenet_cfg, optim=optim_cfg, device=device, work_dir='results/TinyImageNet')\n",
    "imagenet.run(mode='train', val_interval=1, log_interval=1, epochs=100, start_epoch=1)"
   ]
  },
  {
   "cell_type": "markdown",
   "id": "8a219676",
   "metadata": {},
   "source": [
    "# Use transfer learning"
   ]
  },
  {
   "cell_type": "code",
   "execution_count": null,
   "id": "2d1e394e",
   "metadata": {},
   "outputs": [],
   "source": [
    "# Dataset config (if not available in Kagglehub cache, it will be downloaded)\n",
    "eurosat_cfg = dict(\n",
    "    type='EuroSATDataset',\n",
    "    transform=[\n",
    "        dict(type='Resize', size=(128, 128)),\n",
    "        dict(type='ToTensor'),\n",
    "    ]\n",
    ")\n",
    "tfl_model_cfg = dict(\n",
    "    type='EuroSATModel',\n",
    "    backbone_cfg=backbone_cfg,\n",
    "    head_cfg=dict(\n",
    "        type='FFN',\n",
    "        idims=64,\n",
    "        odims=10,  # EuroSAT has 10 classes\n",
    "        hidden_dims=1024,\n",
    "        nlayers=6,\n",
    "        dropout=0.2,\n",
    "    ),\n",
    "    ckpt=dict(\n",
    "        path = imagenet.best_model_path, # Can be replaced with a path to a pre-trained model\n",
    "        load_head=False,\n",
    "        load_backbone=True,\n",
    "        strict=True,\n",
    "    )\n",
    ")\n",
    "\n",
    "tfl_eurosat = Runner(model=tfl_model_cfg, dataloader_cfg=loading_cfg, dataset=eurosat_cfg, optim=optim_cfg, device=device, work_dir='results/tfl_eurosat')\n",
    "tfl_eurosat.run(mode='train', val_interval=1, log_interval=1, epochs=100, start_epoch=1)"
   ]
  }
 ],
 "metadata": {
  "kernelspec": {
   "display_name": "Python 3",
   "language": "python",
   "name": "python3"
  },
  "language_info": {
   "codemirror_mode": {
    "name": "ipython",
    "version": 3
   },
   "file_extension": ".py",
   "mimetype": "text/x-python",
   "name": "python",
   "nbconvert_exporter": "python",
   "pygments_lexer": "ipython3",
   "version": "3.11.9"
  }
 },
 "nbformat": 4,
 "nbformat_minor": 5
}
